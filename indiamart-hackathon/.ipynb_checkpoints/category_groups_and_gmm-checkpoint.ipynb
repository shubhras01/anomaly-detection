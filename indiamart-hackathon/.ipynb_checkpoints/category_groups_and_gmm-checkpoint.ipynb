{
 "cells": [
  {
   "cell_type": "code",
   "execution_count": 21,
   "metadata": {},
   "outputs": [],
   "source": [
    "import pandas as pd\n",
    "import json\n",
    "from pprint import pprint"
   ]
  },
  {
   "cell_type": "code",
   "execution_count": 3,
   "metadata": {},
   "outputs": [
    {
     "data": {
      "text/html": [
       "<div>\n",
       "<style scoped>\n",
       "    .dataframe tbody tr th:only-of-type {\n",
       "        vertical-align: middle;\n",
       "    }\n",
       "\n",
       "    .dataframe tbody tr th {\n",
       "        vertical-align: top;\n",
       "    }\n",
       "\n",
       "    .dataframe thead th {\n",
       "        text-align: right;\n",
       "    }\n",
       "</style>\n",
       "<table border=\"1\" class=\"dataframe\">\n",
       "  <thead>\n",
       "    <tr style=\"text-align: right;\">\n",
       "      <th></th>\n",
       "      <th>Mcat Name</th>\n",
       "      <th>Subcat name</th>\n",
       "      <th>PC_ITEM_ID</th>\n",
       "      <th>PC_ITEM_NAME</th>\n",
       "      <th>FK_IM_SPEC_MASTER_DESC</th>\n",
       "      <th>FK_IM_SPEC_OPTIONS_DESC</th>\n",
       "      <th>PC_ITEM_FOB_PRICE</th>\n",
       "      <th>PC_ITEM_MOQ_UNIT_TYPE</th>\n",
       "    </tr>\n",
       "  </thead>\n",
       "  <tbody>\n",
       "    <tr>\n",
       "      <th>0</th>\n",
       "      <td>HMI Touch Panel</td>\n",
       "      <td>AC Drives, Recorders, Instrumentation Equipmen...</td>\n",
       "      <td>1</td>\n",
       "      <td>Touch Panel</td>\n",
       "      <td>Display Size</td>\n",
       "      <td>15.6\"  to 80 \"</td>\n",
       "      <td>5500.0</td>\n",
       "      <td>Piece</td>\n",
       "    </tr>\n",
       "    <tr>\n",
       "      <th>1</th>\n",
       "      <td>HMI Touch Panel</td>\n",
       "      <td>AC Drives, Recorders, Instrumentation Equipmen...</td>\n",
       "      <td>2</td>\n",
       "      <td>Human Machine Interface</td>\n",
       "      <td>Type</td>\n",
       "      <td>Fully Automatic</td>\n",
       "      <td>4500.0</td>\n",
       "      <td>Unit</td>\n",
       "    </tr>\n",
       "    <tr>\n",
       "      <th>2</th>\n",
       "      <td>HMI Touch Panel</td>\n",
       "      <td>AC Drives, Recorders, Instrumentation Equipmen...</td>\n",
       "      <td>3</td>\n",
       "      <td>Mitsubishi HMI</td>\n",
       "      <td>Display Type</td>\n",
       "      <td>TFT</td>\n",
       "      <td>12000.0</td>\n",
       "      <td>Unit</td>\n",
       "    </tr>\n",
       "  </tbody>\n",
       "</table>\n",
       "</div>"
      ],
      "text/plain": [
       "         Mcat Name                                        Subcat name  \\\n",
       "0  HMI Touch Panel  AC Drives, Recorders, Instrumentation Equipmen...   \n",
       "1  HMI Touch Panel  AC Drives, Recorders, Instrumentation Equipmen...   \n",
       "2  HMI Touch Panel  AC Drives, Recorders, Instrumentation Equipmen...   \n",
       "\n",
       "   PC_ITEM_ID             PC_ITEM_NAME FK_IM_SPEC_MASTER_DESC  \\\n",
       "0           1              Touch Panel           Display Size   \n",
       "1           2  Human Machine Interface                   Type   \n",
       "2           3           Mitsubishi HMI           Display Type   \n",
       "\n",
       "  FK_IM_SPEC_OPTIONS_DESC  PC_ITEM_FOB_PRICE PC_ITEM_MOQ_UNIT_TYPE  \n",
       "0          15.6\"  to 80 \"             5500.0                 Piece  \n",
       "1         Fully Automatic             4500.0                  Unit  \n",
       "2                     TFT            12000.0                  Unit  "
      ]
     },
     "execution_count": 3,
     "metadata": {},
     "output_type": "execute_result"
    }
   ],
   "source": [
    "df = pd.read_csv(filepath_or_buffer=\"hackathon_price_data.csv\")\n",
    "df.head(n=3)"
   ]
  },
  {
   "cell_type": "code",
   "execution_count": 12,
   "metadata": {},
   "outputs": [],
   "source": [
    "df[\"type-value\"] = df.apply(lambda row: row['FK_IM_SPEC_MASTER_DESC'] + \"_\" + str(row[\"FK_IM_SPEC_OPTIONS_DESC\"]), axis=1)"
   ]
  },
  {
   "cell_type": "code",
   "execution_count": 15,
   "metadata": {},
   "outputs": [],
   "source": [
    "df = df.drop(['FK_IM_SPEC_MASTER_DESC', 'FK_IM_SPEC_OPTIONS_DESC'], axis=1)"
   ]
  },
  {
   "cell_type": "code",
   "execution_count": 16,
   "metadata": {},
   "outputs": [
    {
     "data": {
      "text/html": [
       "<div>\n",
       "<style scoped>\n",
       "    .dataframe tbody tr th:only-of-type {\n",
       "        vertical-align: middle;\n",
       "    }\n",
       "\n",
       "    .dataframe tbody tr th {\n",
       "        vertical-align: top;\n",
       "    }\n",
       "\n",
       "    .dataframe thead th {\n",
       "        text-align: right;\n",
       "    }\n",
       "</style>\n",
       "<table border=\"1\" class=\"dataframe\">\n",
       "  <thead>\n",
       "    <tr style=\"text-align: right;\">\n",
       "      <th></th>\n",
       "      <th>Mcat Name</th>\n",
       "      <th>Subcat name</th>\n",
       "      <th>PC_ITEM_ID</th>\n",
       "      <th>PC_ITEM_NAME</th>\n",
       "      <th>PC_ITEM_FOB_PRICE</th>\n",
       "      <th>PC_ITEM_MOQ_UNIT_TYPE</th>\n",
       "      <th>type-value</th>\n",
       "    </tr>\n",
       "  </thead>\n",
       "  <tbody>\n",
       "    <tr>\n",
       "      <th>0</th>\n",
       "      <td>HMI Touch Panel</td>\n",
       "      <td>AC Drives, Recorders, Instrumentation Equipmen...</td>\n",
       "      <td>1</td>\n",
       "      <td>Touch Panel</td>\n",
       "      <td>5500.0</td>\n",
       "      <td>Piece</td>\n",
       "      <td>Display Size_15.6\"  to 80 \"</td>\n",
       "    </tr>\n",
       "    <tr>\n",
       "      <th>1</th>\n",
       "      <td>HMI Touch Panel</td>\n",
       "      <td>AC Drives, Recorders, Instrumentation Equipmen...</td>\n",
       "      <td>2</td>\n",
       "      <td>Human Machine Interface</td>\n",
       "      <td>4500.0</td>\n",
       "      <td>Unit</td>\n",
       "      <td>Type_Fully Automatic</td>\n",
       "    </tr>\n",
       "    <tr>\n",
       "      <th>2</th>\n",
       "      <td>HMI Touch Panel</td>\n",
       "      <td>AC Drives, Recorders, Instrumentation Equipmen...</td>\n",
       "      <td>3</td>\n",
       "      <td>Mitsubishi HMI</td>\n",
       "      <td>12000.0</td>\n",
       "      <td>Unit</td>\n",
       "      <td>Display Type_TFT</td>\n",
       "    </tr>\n",
       "    <tr>\n",
       "      <th>3</th>\n",
       "      <td>HMI Touch Panel</td>\n",
       "      <td>AC Drives, Recorders, Instrumentation Equipmen...</td>\n",
       "      <td>3</td>\n",
       "      <td>Mitsubishi HMI</td>\n",
       "      <td>12000.0</td>\n",
       "      <td>Unit</td>\n",
       "      <td>Model Number/Name_GOT</td>\n",
       "    </tr>\n",
       "    <tr>\n",
       "      <th>4</th>\n",
       "      <td>HMI Touch Panel</td>\n",
       "      <td>AC Drives, Recorders, Instrumentation Equipmen...</td>\n",
       "      <td>3</td>\n",
       "      <td>Mitsubishi HMI</td>\n",
       "      <td>12000.0</td>\n",
       "      <td>Unit</td>\n",
       "      <td>Product Type_HMI</td>\n",
       "    </tr>\n",
       "    <tr>\n",
       "      <th>5</th>\n",
       "      <td>HMI Touch Panel</td>\n",
       "      <td>AC Drives, Recorders, Instrumentation Equipmen...</td>\n",
       "      <td>3</td>\n",
       "      <td>Mitsubishi HMI</td>\n",
       "      <td>12000.0</td>\n",
       "      <td>Unit</td>\n",
       "      <td>Brand_Mitsubishi</td>\n",
       "    </tr>\n",
       "    <tr>\n",
       "      <th>6</th>\n",
       "      <td>HMI Touch Panel</td>\n",
       "      <td>AC Drives, Recorders, Instrumentation Equipmen...</td>\n",
       "      <td>3</td>\n",
       "      <td>Mitsubishi HMI</td>\n",
       "      <td>12000.0</td>\n",
       "      <td>Unit</td>\n",
       "      <td>Size_5',7.5',10,15</td>\n",
       "    </tr>\n",
       "    <tr>\n",
       "      <th>7</th>\n",
       "      <td>HMI Touch Panel</td>\n",
       "      <td>AC Drives, Recorders, Instrumentation Equipmen...</td>\n",
       "      <td>3</td>\n",
       "      <td>Mitsubishi HMI</td>\n",
       "      <td>12000.0</td>\n",
       "      <td>Unit</td>\n",
       "      <td>Screen Size_5,7,10,15</td>\n",
       "    </tr>\n",
       "    <tr>\n",
       "      <th>8</th>\n",
       "      <td>HMI Touch Panel</td>\n",
       "      <td>AC Drives, Recorders, Instrumentation Equipmen...</td>\n",
       "      <td>4</td>\n",
       "      <td>HMI Touch Panels</td>\n",
       "      <td>10000.0</td>\n",
       "      <td>Unit</td>\n",
       "      <td>Display Type_Digital</td>\n",
       "    </tr>\n",
       "    <tr>\n",
       "      <th>9</th>\n",
       "      <td>HMI Touch Panel</td>\n",
       "      <td>AC Drives, Recorders, Instrumentation Equipmen...</td>\n",
       "      <td>4</td>\n",
       "      <td>HMI Touch Panels</td>\n",
       "      <td>10000.0</td>\n",
       "      <td>Unit</td>\n",
       "      <td>Type_Fully Automatic</td>\n",
       "    </tr>\n",
       "  </tbody>\n",
       "</table>\n",
       "</div>"
      ],
      "text/plain": [
       "         Mcat Name                                        Subcat name  \\\n",
       "0  HMI Touch Panel  AC Drives, Recorders, Instrumentation Equipmen...   \n",
       "1  HMI Touch Panel  AC Drives, Recorders, Instrumentation Equipmen...   \n",
       "2  HMI Touch Panel  AC Drives, Recorders, Instrumentation Equipmen...   \n",
       "3  HMI Touch Panel  AC Drives, Recorders, Instrumentation Equipmen...   \n",
       "4  HMI Touch Panel  AC Drives, Recorders, Instrumentation Equipmen...   \n",
       "5  HMI Touch Panel  AC Drives, Recorders, Instrumentation Equipmen...   \n",
       "6  HMI Touch Panel  AC Drives, Recorders, Instrumentation Equipmen...   \n",
       "7  HMI Touch Panel  AC Drives, Recorders, Instrumentation Equipmen...   \n",
       "8  HMI Touch Panel  AC Drives, Recorders, Instrumentation Equipmen...   \n",
       "9  HMI Touch Panel  AC Drives, Recorders, Instrumentation Equipmen...   \n",
       "\n",
       "   PC_ITEM_ID             PC_ITEM_NAME  PC_ITEM_FOB_PRICE  \\\n",
       "0           1              Touch Panel             5500.0   \n",
       "1           2  Human Machine Interface             4500.0   \n",
       "2           3           Mitsubishi HMI            12000.0   \n",
       "3           3           Mitsubishi HMI            12000.0   \n",
       "4           3           Mitsubishi HMI            12000.0   \n",
       "5           3           Mitsubishi HMI            12000.0   \n",
       "6           3           Mitsubishi HMI            12000.0   \n",
       "7           3           Mitsubishi HMI            12000.0   \n",
       "8           4         HMI Touch Panels            10000.0   \n",
       "9           4         HMI Touch Panels            10000.0   \n",
       "\n",
       "  PC_ITEM_MOQ_UNIT_TYPE                   type-value  \n",
       "0                 Piece  Display Size_15.6\"  to 80 \"  \n",
       "1                  Unit         Type_Fully Automatic  \n",
       "2                  Unit             Display Type_TFT  \n",
       "3                  Unit        Model Number/Name_GOT  \n",
       "4                  Unit             Product Type_HMI  \n",
       "5                  Unit             Brand_Mitsubishi  \n",
       "6                  Unit           Size_5',7.5',10,15  \n",
       "7                  Unit        Screen Size_5,7,10,15  \n",
       "8                  Unit         Display Type_Digital  \n",
       "9                  Unit         Type_Fully Automatic  "
      ]
     },
     "execution_count": 16,
     "metadata": {},
     "output_type": "execute_result"
    }
   ],
   "source": [
    "df.head(n=10)"
   ]
  },
  {
   "cell_type": "code",
   "execution_count": null,
   "metadata": {},
   "outputs": [],
   "source": []
  },
  {
   "cell_type": "code",
   "execution_count": null,
   "metadata": {},
   "outputs": [],
   "source": []
  },
  {
   "cell_type": "code",
   "execution_count": null,
   "metadata": {},
   "outputs": [],
   "source": []
  },
  {
   "cell_type": "code",
   "execution_count": 27,
   "metadata": {},
   "outputs": [
    {
     "data": {
      "text/plain": [
       "9392"
      ]
     },
     "execution_count": 27,
     "metadata": {},
     "output_type": "execute_result"
    }
   ],
   "source": [
    "dfj = json.loads(df.to_json(orient=\"records\"))\n",
    "len(dfj)\n",
    "id_to_specs = {}\n",
    "for x in dfj:\n",
    "    xid = x[\"PC_ITEM_ID\"]\n",
    "    id_to_specs.setdefault(xid, {})\n",
    "    type_value = x.pop('type-value')\n",
    "    try:\n",
    "        xid_type, xid_val = \"_\".join(type_value.split(\"_\")[:-1]), type_value.split(\"_\")[-1]\n",
    "        xid_type = xid_type.lower().strip()\n",
    "        xid_val = xid_val.lower().strip()\n",
    "        id_to_specs[xid].setdefault(xid_type, [])\n",
    "        id_to_specs[xid][xid_type].append(xid_val)\n",
    "    except Exception as e:\n",
    "        pprint(type_value)\n",
    "    for each in x.keys():\n",
    "        id_to_specs[xid].setdefault(each, [])\n",
    "        id_to_specs[xid][each].append(x[each])\n",
    "len(id_to_specs)"
   ]
  },
  {
   "cell_type": "code",
   "execution_count": 28,
   "metadata": {},
   "outputs": [
    {
     "data": {
      "text/plain": [
       "[1, 2, 3, 4, 5, 6, 7, 8, 9, 10]"
      ]
     },
     "execution_count": 28,
     "metadata": {},
     "output_type": "execute_result"
    }
   ],
   "source": [
    "id_to_specs.keys()[:10]"
   ]
  },
  {
   "cell_type": "code",
   "execution_count": 31,
   "metadata": {},
   "outputs": [
    {
     "name": "stdout",
     "output_type": "stream",
     "text": [
      "{u'Mcat Name': [u'HMI Touch Panel'],\n",
      " u'PC_ITEM_FOB_PRICE': [5500.0],\n",
      " u'PC_ITEM_ID': [1],\n",
      " u'PC_ITEM_MOQ_UNIT_TYPE': [u'Piece'],\n",
      " u'PC_ITEM_NAME': [u'Touch Panel'],\n",
      " u'Subcat name': [u'AC Drives, Recorders, Instrumentation Equipments and Control Panels & Units'],\n",
      " u'display size': [u'15.6\"  to 80 \"']}\n"
     ]
    }
   ],
   "source": [
    "pprint(id_to_specs[1])"
   ]
  },
  {
   "cell_type": "code",
   "execution_count": 33,
   "metadata": {},
   "outputs": [],
   "source": [
    "for x in id_to_specs:\n",
    "    for each in id_to_specs[x].keys():\n",
    "        id_to_specs[x][each] = list(set(id_to_specs[x][each]))"
   ]
  },
  {
   "cell_type": "code",
   "execution_count": 34,
   "metadata": {},
   "outputs": [
    {
     "data": {
      "text/plain": [
       "{u'Mcat Name': [u'HMI Touch Panel'],\n",
       " u'PC_ITEM_FOB_PRICE': [10000.0],\n",
       " u'PC_ITEM_ID': [8],\n",
       " u'PC_ITEM_MOQ_UNIT_TYPE': [u'PER PIECE'],\n",
       " u'PC_ITEM_NAME': [u'Siemens HMI & Displays'],\n",
       " u'Subcat name': [u'AC Drives, Recorders, Instrumentation Equipments and Control Panels & Units'],\n",
       " u'brand': [u'siemens'],\n",
       " u'display type': [u'tft'],\n",
       " u'screen type': [u'keypad + touch'],\n",
       " u'type': [u'manual', u'fully automatic']}"
      ]
     },
     "execution_count": 34,
     "metadata": {},
     "output_type": "execute_result"
    }
   ],
   "source": [
    "id_to_specs[8]"
   ]
  },
  {
   "cell_type": "code",
   "execution_count": 35,
   "metadata": {},
   "outputs": [],
   "source": [
    "provided_keys = ['Mcat Name', 'PC_ITEM_FOB_PRICE', 'PC_ITEM_ID', 'PC_ITEM_MOQ_UNIT_TYPE', 'PC_ITEM_NAME', 'Subcat name']"
   ]
  },
  {
   "cell_type": "code",
   "execution_count": 41,
   "metadata": {},
   "outputs": [],
   "source": [
    "for each in id_to_specs:\n",
    "    x = id_to_specs[each]\n",
    "    for key in provided_keys:\n",
    "        id_to_specs[each][key] = id_to_specs[each][key][0]"
   ]
  },
  {
   "cell_type": "code",
   "execution_count": 42,
   "metadata": {},
   "outputs": [
    {
     "name": "stdout",
     "output_type": "stream",
     "text": [
      "{u'Mcat Name': u'HMI Touch Panel',\n",
      " u'PC_ITEM_FOB_PRICE': 10000.0,\n",
      " u'PC_ITEM_ID': 8,\n",
      " u'PC_ITEM_MOQ_UNIT_TYPE': u'PER PIECE',\n",
      " u'PC_ITEM_NAME': u'Siemens HMI & Displays',\n",
      " u'Subcat name': u'AC Drives, Recorders, Instrumentation Equipments and Control Panels & Units',\n",
      " u'brand': [u'siemens'],\n",
      " u'display type': [u'tft'],\n",
      " u'screen type': [u'keypad + touch'],\n",
      " u'type': [u'manual', u'fully automatic']}\n"
     ]
    }
   ],
   "source": [
    "pprint(id_to_specs[8])"
   ]
  },
  {
   "cell_type": "code",
   "execution_count": 44,
   "metadata": {},
   "outputs": [
    {
     "name": "stdout",
     "output_type": "stream",
     "text": [
      "{u'Mcat Name': u'HMI Touch Panel',\n",
      " u'PC_ITEM_FOB_PRICE': 5500.0,\n",
      " u'PC_ITEM_ID': 1,\n",
      " u'PC_ITEM_MOQ_UNIT_TYPE': u'Piece',\n",
      " u'PC_ITEM_NAME': u'Touch Panel',\n",
      " u'Subcat name': u'AC Drives, Recorders, Instrumentation Equipments and Control Panels & Units',\n",
      " u'display size': [u'15.6\"  to 80 \"']}\n",
      "{u'Mcat Name': u'HMI Touch Panel',\n",
      " u'PC_ITEM_FOB_PRICE': 4500.0,\n",
      " u'PC_ITEM_ID': 2,\n",
      " u'PC_ITEM_MOQ_UNIT_TYPE': u'Unit',\n",
      " u'PC_ITEM_NAME': u'Human Machine Interface',\n",
      " u'Subcat name': u'AC Drives, Recorders, Instrumentation Equipments and Control Panels & Units',\n",
      " u'type': [u'fully automatic']}\n",
      "{u'Mcat Name': u'HMI Touch Panel',\n",
      " u'PC_ITEM_FOB_PRICE': 12000.0,\n",
      " u'PC_ITEM_ID': 3,\n",
      " u'PC_ITEM_MOQ_UNIT_TYPE': u'Unit',\n",
      " u'PC_ITEM_NAME': u'Mitsubishi HMI',\n",
      " u'Subcat name': u'AC Drives, Recorders, Instrumentation Equipments and Control Panels & Units',\n",
      " u'brand': [u'mitsubishi'],\n",
      " u'display type': [u'tft'],\n",
      " u'model number/name': [u'got'],\n",
      " u'product type': [u'hmi'],\n",
      " u'screen size': [u'5,7,10,15'],\n",
      " u'size': [u\"5',7.5',10,15\"]}\n",
      "{u'Mcat Name': u'HMI Touch Panel',\n",
      " u'PC_ITEM_FOB_PRICE': 10000.0,\n",
      " u'PC_ITEM_ID': 4,\n",
      " u'PC_ITEM_MOQ_UNIT_TYPE': u'Unit',\n",
      " u'PC_ITEM_NAME': u'HMI Touch Panels',\n",
      " u'Subcat name': u'AC Drives, Recorders, Instrumentation Equipments and Control Panels & Units',\n",
      " u'display type': [u'digital'],\n",
      " u'operating system': [u'windows 8'],\n",
      " u'power': [u'240 v'],\n",
      " u'type': [u'fully automatic']}\n",
      "{u'Mcat Name': u'HMI Touch Panel',\n",
      " u'PC_ITEM_FOB_PRICE': 14000.0,\n",
      " u'PC_ITEM_ID': 5,\n",
      " u'PC_ITEM_MOQ_UNIT_TYPE': u'Unit',\n",
      " u'PC_ITEM_NAME': u'Human Machine Interface',\n",
      " u'Subcat name': u'AC Drives, Recorders, Instrumentation Equipments and Control Panels & Units',\n",
      " u'application': [u'laboratory'],\n",
      " u'type': [u'fully automatic']}\n",
      "{u'Mcat Name': u'HMI Touch Panel',\n",
      " u'PC_ITEM_FOB_PRICE': 14175.0,\n",
      " u'PC_ITEM_ID': 6,\n",
      " u'PC_ITEM_MOQ_UNIT_TYPE': u'Piece',\n",
      " u'PC_ITEM_NAME': u'Human Machine Interface',\n",
      " u'Subcat name': u'AC Drives, Recorders, Instrumentation Equipments and Control Panels & Units',\n",
      " u'display type': [u'lcd']}\n",
      "{u'Mcat Name': u'HMI Touch Panel',\n",
      " u'PC_ITEM_FOB_PRICE': 5000.0,\n",
      " u'PC_ITEM_ID': 7,\n",
      " u'PC_ITEM_MOQ_UNIT_TYPE': u'Unit',\n",
      " u'PC_ITEM_NAME': u'Proface HMI Touch Panel',\n",
      " u'Subcat name': u'AC Drives, Recorders, Instrumentation Equipments and Control Panels & Units',\n",
      " u'application': [u'hmi'],\n",
      " u'brand': [u'proface'],\n",
      " u'model': [u'proface']}\n",
      "{u'Mcat Name': u'HMI Touch Panel',\n",
      " u'PC_ITEM_FOB_PRICE': 10000.0,\n",
      " u'PC_ITEM_ID': 8,\n",
      " u'PC_ITEM_MOQ_UNIT_TYPE': u'PER PIECE',\n",
      " u'PC_ITEM_NAME': u'Siemens HMI & Displays',\n",
      " u'Subcat name': u'AC Drives, Recorders, Instrumentation Equipments and Control Panels & Units',\n",
      " u'brand': [u'siemens'],\n",
      " u'display type': [u'tft'],\n",
      " u'screen type': [u'keypad + touch'],\n",
      " u'type': [u'manual', u'fully automatic']}\n",
      "{u'Mcat Name': u'HMI Touch Panel',\n",
      " u'PC_ITEM_FOB_PRICE': 9500.0,\n",
      " u'PC_ITEM_ID': 9,\n",
      " u'PC_ITEM_MOQ_UNIT_TYPE': u'Piece',\n",
      " u'PC_ITEM_NAME': u'Touch Screen HMI',\n",
      " u'Subcat name': u'AC Drives, Recorders, Instrumentation Equipments and Control Panels & Units',\n",
      " u'brand': [u'other'],\n",
      " u'power': [u'5w']}\n",
      "{u'Mcat Name': u'HMI Touch Panel',\n",
      " u'PC_ITEM_FOB_PRICE': 25000.0,\n",
      " u'PC_ITEM_ID': 10,\n",
      " u'PC_ITEM_MOQ_UNIT_TYPE': u'Piece',\n",
      " u'PC_ITEM_NAME': u'Schneider Electric HMI Touch Panel',\n",
      " u'Subcat name': u'AC Drives, Recorders, Instrumentation Equipments and Control Panels & Units',\n",
      " u'brand': [u'schneider'],\n",
      " u'brightness': [u'yes'],\n",
      " u'model': [u'latest'],\n",
      " u'product type': [u'touch panel']}\n",
      "{u'Mcat Name': u'HMI Touch Panel',\n",
      " u'PC_ITEM_FOB_PRICE': 14000.0,\n",
      " u'PC_ITEM_ID': 11,\n",
      " u'PC_ITEM_MOQ_UNIT_TYPE': u'Unit',\n",
      " u'PC_ITEM_NAME': u'Human Machine Interface',\n",
      " u'Subcat name': u'AC Drives, Recorders, Instrumentation Equipments and Control Panels & Units',\n",
      " u'brand': [u'delta'],\n",
      " u'display type': [u'touch screen'],\n",
      " u'screen type': [u'touch,keypad']}\n",
      "{u'Mcat Name': u'HMI Touch Panel',\n",
      " u'PC_ITEM_FOB_PRICE': 14175.0,\n",
      " u'PC_ITEM_ID': 12,\n",
      " u'PC_ITEM_MOQ_UNIT_TYPE': u'Piece',\n",
      " u'PC_ITEM_NAME': u'Human Machine Interface',\n",
      " u'Subcat name': u'AC Drives, Recorders, Instrumentation Equipments and Control Panels & Units',\n",
      " u'application': [u'hmi'],\n",
      " u'brand': [u'wecon'],\n",
      " u'model': [u'hmi'],\n",
      " u'screen size': [u'4 inch onward']}\n",
      "{u'Mcat Name': u'HMI Touch Panel',\n",
      " u'PC_ITEM_FOB_PRICE': 9900.0,\n",
      " u'PC_ITEM_ID': 13,\n",
      " u'PC_ITEM_MOQ_UNIT_TYPE': u'Unit',\n",
      " u'PC_ITEM_NAME': u'True Color HMI Touch Screen',\n",
      " u'Subcat name': u'AC Drives, Recorders, Instrumentation Equipments and Control Panels & Units',\n",
      " u'screen size(inches)': [u'3.5']}\n",
      "{u'Mcat Name': u'HMI Touch Panel',\n",
      " u'PC_ITEM_FOB_PRICE': 20000.0,\n",
      " u'PC_ITEM_ID': 14,\n",
      " u'PC_ITEM_MOQ_UNIT_TYPE': u'Piece',\n",
      " u'PC_ITEM_NAME': u'Flexi Panels HMI With Expansion slots',\n",
      " u'Subcat name': u'AC Drives, Recorders, Instrumentation Equipments and Control Panels & Units',\n",
      " u'screen size(inches)': [u'3.5 to10.2 inches']}\n",
      "{u'Mcat Name': u'HMI Touch Panel',\n",
      " u'PC_ITEM_FOB_PRICE': 12000.0,\n",
      " u'PC_ITEM_ID': 15,\n",
      " u'PC_ITEM_MOQ_UNIT_TYPE': u'Piece',\n",
      " u'PC_ITEM_NAME': u'Four Lines Displaying Text Panel',\n",
      " u'Subcat name': u'AC Drives, Recorders, Instrumentation Equipments and Control Panels & Units',\n",
      " u'power': [u'24v dc']}\n",
      "{u'Mcat Name': u'HMI Touch Panel',\n",
      " u'PC_ITEM_FOB_PRICE': 16000.0,\n",
      " u'PC_ITEM_ID': 16,\n",
      " u'PC_ITEM_MOQ_UNIT_TYPE': u'Piece',\n",
      " u'PC_ITEM_NAME': u'Wecon 7 Inch Hmi With Ethernet Levi700 E-N',\n",
      " u'Subcat name': u'AC Drives, Recorders, Instrumentation Equipments and Control Panels & Units',\n",
      " u'screen size(inches)': [u'7 inch']}\n",
      "{u'Mcat Name': u'HMI Touch Panel',\n",
      " u'PC_ITEM_FOB_PRICE': 80000.0,\n",
      " u'PC_ITEM_ID': 17,\n",
      " u'PC_ITEM_MOQ_UNIT_TYPE': u'Piece',\n",
      " u'PC_ITEM_NAME': u'Siemens Comfort Panels',\n",
      " u'Subcat name': u'AC Drives, Recorders, Instrumentation Equipments and Control Panels & Units',\n",
      " u'operating system': [u'windows 7']}\n",
      "{u'Mcat Name': u'HMI Touch Panel',\n",
      " u'PC_ITEM_FOB_PRICE': 50000.0,\n",
      " u'PC_ITEM_ID': 18,\n",
      " u'PC_ITEM_MOQ_UNIT_TYPE': u'Unit',\n",
      " u'PC_ITEM_NAME': u'Siemens HMI Touch Panels',\n",
      " u'Subcat name': u'AC Drives, Recorders, Instrumentation Equipments and Control Panels & Units',\n",
      " u'brand': [u'siemens']}\n",
      "{u'Mcat Name': u'HMI Touch Panel',\n",
      " u'PC_ITEM_FOB_PRICE': 10500.0,\n",
      " u'PC_ITEM_ID': 19,\n",
      " u'PC_ITEM_MOQ_UNIT_TYPE': u'Piece',\n",
      " u'PC_ITEM_NAME': u'Industrial HMI Touch Panel',\n",
      " u'Subcat name': u'AC Drives, Recorders, Instrumentation Equipments and Control Panels & Units',\n",
      " u'brand': [u'analyte controls'],\n",
      " u'power': [u'24v dc']}\n"
     ]
    }
   ],
   "source": [
    "for i in range(1,20):\n",
    "    pprint(id_to_specs[i])"
   ]
  },
  {
   "cell_type": "code",
   "execution_count": 45,
   "metadata": {},
   "outputs": [
    {
     "ename": "AttributeError",
     "evalue": "'int' object has no attribute 'lower'",
     "output_type": "error",
     "traceback": [
      "\u001b[0;31m---------------------------------------------------------------------------\u001b[0m",
      "\u001b[0;31mAttributeError\u001b[0m                            Traceback (most recent call last)",
      "\u001b[0;32m<ipython-input-45-e44ecea43f0d>\u001b[0m in \u001b[0;36m<module>\u001b[0;34m()\u001b[0m\n\u001b[1;32m      2\u001b[0m \u001b[0;32mfor\u001b[0m \u001b[0meach\u001b[0m \u001b[0;32min\u001b[0m \u001b[0mid_to_specs\u001b[0m\u001b[0;34m:\u001b[0m\u001b[0;34m\u001b[0m\u001b[0m\n\u001b[1;32m      3\u001b[0m     \u001b[0mx\u001b[0m \u001b[0;34m=\u001b[0m \u001b[0mid_to_specs\u001b[0m\u001b[0;34m[\u001b[0m\u001b[0meach\u001b[0m\u001b[0;34m]\u001b[0m\u001b[0;34m\u001b[0m\u001b[0m\n\u001b[0;32m----> 4\u001b[0;31m     \u001b[0mmcat\u001b[0m \u001b[0;34m=\u001b[0m \u001b[0meach\u001b[0m\u001b[0;34m.\u001b[0m\u001b[0mlower\u001b[0m\u001b[0;34m(\u001b[0m\u001b[0;34m)\u001b[0m\u001b[0;34m.\u001b[0m\u001b[0mstrip\u001b[0m\u001b[0;34m(\u001b[0m\u001b[0;34m)\u001b[0m\u001b[0;34m\u001b[0m\u001b[0m\n\u001b[0m\u001b[1;32m      5\u001b[0m     \u001b[0mmcat_to_specs\u001b[0m\u001b[0;34m.\u001b[0m\u001b[0msetdefault\u001b[0m\u001b[0;34m(\u001b[0m\u001b[0mmcat\u001b[0m\u001b[0;34m,\u001b[0m \u001b[0;34m[\u001b[0m\u001b[0;34m]\u001b[0m\u001b[0;34m)\u001b[0m\u001b[0;34m\u001b[0m\u001b[0m\n\u001b[1;32m      6\u001b[0m     \u001b[0mmcat_to_specs\u001b[0m\u001b[0;34m[\u001b[0m\u001b[0mmcat\u001b[0m\u001b[0;34m]\u001b[0m\u001b[0;34m.\u001b[0m\u001b[0mappend\u001b[0m\u001b[0;34m(\u001b[0m\u001b[0mx\u001b[0m\u001b[0;34m)\u001b[0m\u001b[0;34m\u001b[0m\u001b[0m\n",
      "\u001b[0;31mAttributeError\u001b[0m: 'int' object has no attribute 'lower'"
     ]
    }
   ],
   "source": [
    "mcat_to_specs = {}\n",
    "for each in id_to_specs:\n",
    "    x = id_to_specs[each]\n",
    "    mcat = x['Mcat Name'].lower().strip()\n",
    "    mcat_to_specs.setdefault(mcat, [])\n",
    "    mcat_to_specs[mcat].append(x)\n",
    "len(mcat_to_specs)"
   ]
  },
  {
   "cell_type": "code",
   "execution_count": null,
   "metadata": {},
   "outputs": [],
   "source": []
  }
 ],
 "metadata": {
  "kernelspec": {
   "display_name": "Python 2",
   "language": "python",
   "name": "python2"
  },
  "language_info": {
   "codemirror_mode": {
    "name": "ipython",
    "version": 2
   },
   "file_extension": ".py",
   "mimetype": "text/x-python",
   "name": "python",
   "nbconvert_exporter": "python",
   "pygments_lexer": "ipython2",
   "version": "2.7.10"
  }
 },
 "nbformat": 4,
 "nbformat_minor": 2
}
